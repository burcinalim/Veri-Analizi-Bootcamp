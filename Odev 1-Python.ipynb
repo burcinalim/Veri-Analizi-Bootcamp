{
 "cells": [
  {
   "cell_type": "code",
   "execution_count": null,
   "id": "17a90340-451a-4f0b-8dc4-8b0b118e4a34",
   "metadata": {},
   "outputs": [],
   "source": [
    "# 1. Girilen sayının pozitif, negatif veya sıfır olduğunu yazan koşul"
   ]
  },
  {
   "cell_type": "code",
   "execution_count": 10,
   "id": "5147c670-43ad-40ce-a481-29530b85aa22",
   "metadata": {},
   "outputs": [
    {
     "name": "stdin",
     "output_type": "stream",
     "text": [
      "Bir sayi giriniz:  4.5\n"
     ]
    },
    {
     "name": "stdout",
     "output_type": "stream",
     "text": [
      "Girilen sayi pozitif\n"
     ]
    }
   ],
   "source": [
    "# Kullanicidan sayi almak icin\n",
    "sayi = float(input(\"Bir sayi giriniz: \"))\n",
    "\n",
    "\n",
    "# Sayının durumunu kontrol etmek icin\n",
    "if sayi > 0:\n",
    "    print('Girilen sayi pozitif')\n",
    "elif sayi < 0:\n",
    "    print('Girilen sayi negatif')\n",
    "else:\n",
    "    print('Girilen sayi 0')"
   ]
  },
  {
   "cell_type": "code",
   "execution_count": null,
   "id": "2eea4a82-9edc-4801-aafa-6ae2c223815b",
   "metadata": {},
   "outputs": [],
   "source": [
    "# 2. Girilen sayının tek mi çift mi olduğunu yazan koşul"
   ]
  },
  {
   "cell_type": "code",
   "execution_count": 20,
   "id": "715a2622-1744-47b4-8a55-d09873c5bd1f",
   "metadata": {},
   "outputs": [
    {
     "name": "stdin",
     "output_type": "stream",
     "text": [
      "Bir sayi giriniz:  17\n"
     ]
    },
    {
     "name": "stdout",
     "output_type": "stream",
     "text": [
      "Girdiginiz sayi tek sayidir.\n"
     ]
    }
   ],
   "source": [
    "# Kullanicidan sayi almak icin\n",
    "value = float(input(\"Bir sayi giriniz: \"))\n",
    "\n",
    "\n",
    "if value % 2 == 0:\n",
    "    print('Girdiginiz sayi cift sayidir.')\n",
    "else:\n",
    "    print('Girdiginiz sayi tek sayidir.')\n",
    "\n",
    "\n"
   ]
  },
  {
   "cell_type": "code",
   "execution_count": null,
   "id": "3d35b304-0dc0-4d76-95a8-e31f6cff9987",
   "metadata": {},
   "outputs": [],
   "source": [
    "# 3. Girilen nota göre harf aralığını yazan koşul (80-100 A, 60-80 B vs.)"
   ]
  },
  {
   "cell_type": "code",
   "execution_count": 33,
   "id": "f80e7e92-39c3-4012-a59f-3a1bb1006883",
   "metadata": {},
   "outputs": [
    {
     "name": "stdin",
     "output_type": "stream",
     "text": [
      "Notunuzu giriniz:  0\n"
     ]
    },
    {
     "name": "stdout",
     "output_type": "stream",
     "text": [
      "Harf Notunuz \"F\"\n"
     ]
    }
   ],
   "source": [
    "value_2 = float(input('Notunuzu giriniz: '))\n",
    "\n",
    "\n",
    "if value_2 <= 100 and value_2 >= 80:\n",
    "    print('Harf Notunuz \"A\"')\n",
    "elif value_2 <80 and value_2 >= 60:\n",
    "    print('Harf Notunuz \"B\"')\n",
    "elif value_2 <60 and value_2 >= 40:\n",
    "    print('Harf Notunuz \"C\"')\n",
    "elif value_2 <40 and value_2 >= 20:\n",
    "    print('Harf Notunuz \"D\"')\n",
    "elif value_2 <20 and value_2 >=0:\n",
    "    print('Harf Notunuz \"F\"')\n",
    "else:\n",
    "    print('Gecersiz not girdiniz.')\n",
    "    "
   ]
  },
  {
   "cell_type": "code",
   "execution_count": null,
   "id": "247159de-5969-42b7-8716-ec7c5d9699fe",
   "metadata": {},
   "outputs": [],
   "source": [
    "# 4. Girilen ismin karakter sayısı 5'ten büyükse \"uzun bir isminiz var\" değilse ismini yazsın"
   ]
  },
  {
   "cell_type": "code",
   "execution_count": 44,
   "id": "1bac576d-9651-4c63-a0be-1bd5263ca7ea",
   "metadata": {},
   "outputs": [
    {
     "name": "stdin",
     "output_type": "stream",
     "text": [
      "Isminizi yaziniz. 23\n"
     ]
    },
    {
     "name": "stdout",
     "output_type": "stream",
     "text": [
      "Lütfen sayısal bir değer değil, bir isim girin.\n"
     ]
    }
   ],
   "source": [
    "#Kullanicidan isim alma\n",
    "get_name = input('Isminizi yaziniz.')\n",
    "\n",
    "# Değerin sayısal olup olmadığını kontrol et\n",
    "if get_name.isdigit():\n",
    "    print(\"Lütfen sayısal bir değer değil, bir isim girin.\")\n",
    "else:\n",
    "    # Girilen adin uzunlugunu kontrol etme\n",
    "    if len(get_name) >5:\n",
    "        print('Uzun bir isminiz var')\n",
    "    else:\n",
    "        print('Isminiz kisa')"
   ]
  },
  {
   "cell_type": "code",
   "execution_count": null,
   "id": "f8f000d0-4906-453f-86c7-9788f18caf44",
   "metadata": {},
   "outputs": [],
   "source": [
    "# 5. Girilen sayının asal olup olmadığını bulan kod dizisi. (for ve while)"
   ]
  },
  {
   "cell_type": "code",
   "execution_count": 47,
   "id": "4411cab1-f706-4979-8c43-d19d1bf5945d",
   "metadata": {},
   "outputs": [
    {
     "name": "stdin",
     "output_type": "stream",
     "text": [
      "Bir sayı girin:  7\n"
     ]
    },
    {
     "name": "stdout",
     "output_type": "stream",
     "text": [
      "Asal sayı\n"
     ]
    }
   ],
   "source": [
    "value_3 = int(input(\"Bir sayı girin: \"))\n",
    "\n",
    "\n",
    "# Asallık kontrolü\n",
    "if value_3 < 2:\n",
    "    print(f\"{value_3} asal bir sayı değildir.\")\n",
    "else:\n",
    "    for i in range(2, int(value_3** 0.5)+1):\n",
    "       if value_3 % i == 0:\n",
    "           print(\"Asal değil\")\n",
    "           break\n",
    "    else:\n",
    "         print(\"Asal sayı\")"
   ]
  },
  {
   "cell_type": "code",
   "execution_count": null,
   "id": "272ad889-e559-4807-8bf2-68943ca530d3",
   "metadata": {},
   "outputs": [
    {
     "name": "stdin",
     "output_type": "stream",
     "text": [
      "Bir sayı girin:  17\n"
     ]
    }
   ],
   "source": [
    "value_4 = int(input(\"Bir sayı girin: \"))\n",
    "\n",
    "# Asallık kontrolü\n",
    "if value_4 < 2:\n",
    "    print(f\"{value_4} asal bir sayı değildir.\")\n",
    "else:\n",
    "    i = 2\n",
    "    while i * i <= value_4:\n",
    "       if value_4 % i == 0:\n",
    "           print(\"Asal değil\")\n",
    "           break\n",
    "    else:\n",
    "         print(\"Asal sayı\")"
   ]
  },
  {
   "cell_type": "code",
   "execution_count": null,
   "id": "0a04b8bb-260f-472c-b7b7-1ce4b1d3f027",
   "metadata": {},
   "outputs": [],
   "source": [
    "# 6. notlar=[45,85,75,50] içinde 75 değerinin indisini yazdıran döngü"
   ]
  },
  {
   "cell_type": "code",
   "execution_count": 3,
   "id": "45850c52-467e-4970-bd32-67819ae5de30",
   "metadata": {},
   "outputs": [
    {
     "name": "stdout",
     "output_type": "stream",
     "text": [
      "75'in indisi: 2\n"
     ]
    }
   ],
   "source": [
    "notlar=[45,85,75,50]\n",
    "\n",
    "print(\"75'in indisi:\", notlar.index(75))"
   ]
  },
  {
   "cell_type": "code",
   "execution_count": null,
   "id": "50ef8495-a9b7-4426-889e-3fd45dc120e5",
   "metadata": {},
   "outputs": [],
   "source": [
    "#7. Girilen sayının faktöriyelini alalım. (for ve while)"
   ]
  },
  {
   "cell_type": "code",
   "execution_count": null,
   "id": "2e59a5ee-d3a6-4ac0-84a9-bd71b4cbbbcd",
   "metadata": {},
   "outputs": [],
   "source": [
    "value_5 = int(input(\"Faktoriyel almak icin sayi giriniz.\"))\n",
    "\n",
    "faktoriyel = 1\n",
    "\n",
    "for i in range(1,value_5 +1):\n",
    "    faktoriyel *=i\n",
    "\n",
    "print(f\"{value_5}! = {faktoriyel}\")"
   ]
  },
  {
   "cell_type": "code",
   "execution_count": null,
   "id": "fabb2c83-99f5-4f7e-a82a-252d51ee0096",
   "metadata": {},
   "outputs": [],
   "source": [
    "# 8. Kullanıcıdan pozitif bir sayı bekleyen, pozitifi de gördüğü an bastıran, negatif sayı girildikçe bir daha soran yapı kuralım. (for döngüsü ile)"
   ]
  },
  {
   "cell_type": "code",
   "execution_count": 2,
   "id": "167a7311-6f30-4e7d-a98c-132d9b278b06",
   "metadata": {},
   "outputs": [
    {
     "name": "stdin",
     "output_type": "stream",
     "text": [
      "Pozitif bir sayi giriniz. -90\n"
     ]
    },
    {
     "name": "stdout",
     "output_type": "stream",
     "text": [
      "Negatif sayi girdiniz. Pozitif sayi giriniz.\n"
     ]
    },
    {
     "name": "stdin",
     "output_type": "stream",
     "text": [
      "Pozitif bir sayi giriniz. 78\n"
     ]
    },
    {
     "name": "stdout",
     "output_type": "stream",
     "text": [
      "Girilen sayi:  78\n"
     ]
    }
   ],
   "source": [
    "while True:\n",
    "    value_6 = int(input('Pozitif bir sayi giriniz.'))\n",
    "    if value_6 >0:\n",
    "        print(\"Girilen sayi: \", value_6)\n",
    "        break\n",
    "    else:\n",
    "        print(\"Negatif sayi girdiniz. Pozitif sayi giriniz.\")\n",
    "        "
   ]
  },
  {
   "cell_type": "code",
   "execution_count": null,
   "id": "4ac4aeb9-86a2-4108-b07f-e4ec9bec5cc7",
   "metadata": {},
   "outputs": [],
   "source": [
    "#9. fonksiyon ile girilen sayının asal olup olmadığını bulan kod dizisi. (for ve while)\n"
   ]
  },
  {
   "cell_type": "code",
   "execution_count": 10,
   "id": "9658a20c-4e32-4382-b879-742579864354",
   "metadata": {},
   "outputs": [
    {
     "name": "stdin",
     "output_type": "stream",
     "text": [
      "Bir sayi giriniz: 17\n"
     ]
    },
    {
     "name": "stdout",
     "output_type": "stream",
     "text": [
      "Asal\n"
     ]
    }
   ],
   "source": [
    "def is_value_prime(n):\n",
    "    if n<2:\n",
    "        return False\n",
    "    for i in range(2, int(n**0.5) +1):\n",
    "        if n % i ==0:\n",
    "            return False\n",
    "    return True\n",
    "            \n",
    "value_7 = int(input(\"Bir sayi giriniz:\"))    \n",
    "print(\"Asal\" if is_value_prime(value_7) else \"Asal degil\")"
   ]
  },
  {
   "cell_type": "code",
   "execution_count": null,
   "id": "6c18a84c-db13-48f0-b91e-f5e1f54b043a",
   "metadata": {},
   "outputs": [],
   "source": []
  },
  {
   "cell_type": "code",
   "execution_count": 15,
   "id": "fa477b48-c6fe-44b9-9b6e-4ee3cfcc648b",
   "metadata": {},
   "outputs": [
    {
     "name": "stdin",
     "output_type": "stream",
     "text": [
      "Bir sayı girin:  2\n"
     ]
    },
    {
     "name": "stdout",
     "output_type": "stream",
     "text": [
      "Asal\n"
     ]
    }
   ],
   "source": [
    "def check_value_is_prime(n):\n",
    "    if n<2:\n",
    "        return False\n",
    "    i = 2\n",
    "    while i * i <= n:\n",
    "        if n % i == 0:\n",
    "            return False\n",
    "        i += 1\n",
    "    return True\n",
    "\n",
    "value_8 = int(input(\"Bir sayı girin: \"))\n",
    "print(\"Asal\" if check_value_is_prime(value_8) else \"Asal değil\")"
   ]
  },
  {
   "cell_type": "code",
   "execution_count": 11,
   "id": "60c4f583-f0b5-41d7-adb7-6088fc77cc1e",
   "metadata": {},
   "outputs": [],
   "source": [
    "#10. fonksiyon ile girilen sayının faktöriyelini alalım. (for ve while)"
   ]
  },
  {
   "cell_type": "code",
   "execution_count": 17,
   "id": "c4532564-26df-44b3-ba47-1693e332ab41",
   "metadata": {},
   "outputs": [
    {
     "name": "stdin",
     "output_type": "stream",
     "text": [
      "Faktöriyeli alınacak sayı:  5\n"
     ]
    },
    {
     "name": "stdout",
     "output_type": "stream",
     "text": [
      "5! = 120\n"
     ]
    }
   ],
   "source": [
    "def faktoriyel_for(n):\n",
    "    result = 1\n",
    "    for i in range(1, n + 1):\n",
    "        result *= i\n",
    "    return result\n",
    "\n",
    "value_9 = int(input(\"Faktöriyeli alınacak sayı: \"))\n",
    "print(f\"{value_9}! = {faktoriyel_for(value_9)}\")"
   ]
  },
  {
   "cell_type": "code",
   "execution_count": 20,
   "id": "a9bc2ba0-9e60-42f4-9389-77b2e79c8a0d",
   "metadata": {},
   "outputs": [
    {
     "name": "stdin",
     "output_type": "stream",
     "text": [
      "Faktöriyeli alınacak sayı:  6\n"
     ]
    },
    {
     "name": "stdout",
     "output_type": "stream",
     "text": [
      "6! = 720\n"
     ]
    }
   ],
   "source": [
    "def faktoriyel_while(n):\n",
    "    result = 1\n",
    "    i = 1\n",
    "    while i <= n:\n",
    "        result *= i\n",
    "        i += 1\n",
    "    return result\n",
    "\n",
    "value_10 = int(input(\"Faktöriyeli alınacak sayı: \"))\n",
    "print(f\"{value_10}! = {faktoriyel_while(value_10)}\")"
   ]
  },
  {
   "cell_type": "code",
   "execution_count": null,
   "id": "da04a366-a766-4852-a241-be34c1453f59",
   "metadata": {},
   "outputs": [],
   "source": []
  },
  {
   "cell_type": "code",
   "execution_count": null,
   "id": "9aea62db-3016-45b6-8f7e-678afd5f5c65",
   "metadata": {},
   "outputs": [],
   "source": []
  }
 ],
 "metadata": {
  "kernelspec": {
   "display_name": "Python 3 (ipykernel)",
   "language": "python",
   "name": "python3"
  },
  "language_info": {
   "codemirror_mode": {
    "name": "ipython",
    "version": 3
   },
   "file_extension": ".py",
   "mimetype": "text/x-python",
   "name": "python",
   "nbconvert_exporter": "python",
   "pygments_lexer": "ipython3",
   "version": "3.11.5"
  }
 },
 "nbformat": 4,
 "nbformat_minor": 5
}
