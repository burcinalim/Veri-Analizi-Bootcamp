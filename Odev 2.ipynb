{
 "cells": [
  {
   "cell_type": "code",
   "execution_count": 2,
   "id": "5045ac47-c4c0-4b51-8118-f0b612288625",
   "metadata": {},
   "outputs": [],
   "source": [
    "import pandas as pd"
   ]
  },
  {
   "cell_type": "code",
   "execution_count": 8,
   "id": "2afc849b-6f32-448e-b179-d3f687d6fa8b",
   "metadata": {},
   "outputs": [],
   "source": [
    "titanic_data = pd.read_csv('Titanic dataset.csv')"
   ]
  },
  {
   "cell_type": "code",
   "execution_count": 9,
   "id": "9fa109ba-1384-464f-a97a-ef43868b9f11",
   "metadata": {},
   "outputs": [
    {
     "data": {
      "text/html": [
       "<div>\n",
       "<style scoped>\n",
       "    .dataframe tbody tr th:only-of-type {\n",
       "        vertical-align: middle;\n",
       "    }\n",
       "\n",
       "    .dataframe tbody tr th {\n",
       "        vertical-align: top;\n",
       "    }\n",
       "\n",
       "    .dataframe thead th {\n",
       "        text-align: right;\n",
       "    }\n",
       "</style>\n",
       "<table border=\"1\" class=\"dataframe\">\n",
       "  <thead>\n",
       "    <tr style=\"text-align: right;\">\n",
       "      <th></th>\n",
       "      <th>PassengerId</th>\n",
       "      <th>Survived</th>\n",
       "      <th>Pclass</th>\n",
       "      <th>Name</th>\n",
       "      <th>Sex</th>\n",
       "      <th>Age</th>\n",
       "      <th>SibSp</th>\n",
       "      <th>Parch</th>\n",
       "      <th>Ticket</th>\n",
       "      <th>Fare</th>\n",
       "      <th>Cabin</th>\n",
       "      <th>Embarked</th>\n",
       "    </tr>\n",
       "  </thead>\n",
       "  <tbody>\n",
       "    <tr>\n",
       "      <th>0</th>\n",
       "      <td>1</td>\n",
       "      <td>0</td>\n",
       "      <td>3</td>\n",
       "      <td>Braund, Mr. Owen Harris</td>\n",
       "      <td>male</td>\n",
       "      <td>22.0</td>\n",
       "      <td>1</td>\n",
       "      <td>0</td>\n",
       "      <td>A/5 21171</td>\n",
       "      <td>7.2500</td>\n",
       "      <td>NaN</td>\n",
       "      <td>S</td>\n",
       "    </tr>\n",
       "    <tr>\n",
       "      <th>1</th>\n",
       "      <td>2</td>\n",
       "      <td>1</td>\n",
       "      <td>1</td>\n",
       "      <td>Cumings, Mrs. John Bradley (Florence Briggs Th...</td>\n",
       "      <td>female</td>\n",
       "      <td>38.0</td>\n",
       "      <td>1</td>\n",
       "      <td>0</td>\n",
       "      <td>PC 17599</td>\n",
       "      <td>71.2833</td>\n",
       "      <td>C85</td>\n",
       "      <td>C</td>\n",
       "    </tr>\n",
       "    <tr>\n",
       "      <th>2</th>\n",
       "      <td>3</td>\n",
       "      <td>1</td>\n",
       "      <td>3</td>\n",
       "      <td>Heikkinen, Miss. Laina</td>\n",
       "      <td>female</td>\n",
       "      <td>26.0</td>\n",
       "      <td>0</td>\n",
       "      <td>0</td>\n",
       "      <td>STON/O2. 3101282</td>\n",
       "      <td>7.9250</td>\n",
       "      <td>NaN</td>\n",
       "      <td>S</td>\n",
       "    </tr>\n",
       "    <tr>\n",
       "      <th>3</th>\n",
       "      <td>4</td>\n",
       "      <td>1</td>\n",
       "      <td>1</td>\n",
       "      <td>Futrelle, Mrs. Jacques Heath (Lily May Peel)</td>\n",
       "      <td>female</td>\n",
       "      <td>35.0</td>\n",
       "      <td>1</td>\n",
       "      <td>0</td>\n",
       "      <td>113803</td>\n",
       "      <td>53.1000</td>\n",
       "      <td>C123</td>\n",
       "      <td>S</td>\n",
       "    </tr>\n",
       "    <tr>\n",
       "      <th>4</th>\n",
       "      <td>5</td>\n",
       "      <td>0</td>\n",
       "      <td>3</td>\n",
       "      <td>Allen, Mr. William Henry</td>\n",
       "      <td>male</td>\n",
       "      <td>35.0</td>\n",
       "      <td>0</td>\n",
       "      <td>0</td>\n",
       "      <td>373450</td>\n",
       "      <td>8.0500</td>\n",
       "      <td>NaN</td>\n",
       "      <td>S</td>\n",
       "    </tr>\n",
       "    <tr>\n",
       "      <th>...</th>\n",
       "      <td>...</td>\n",
       "      <td>...</td>\n",
       "      <td>...</td>\n",
       "      <td>...</td>\n",
       "      <td>...</td>\n",
       "      <td>...</td>\n",
       "      <td>...</td>\n",
       "      <td>...</td>\n",
       "      <td>...</td>\n",
       "      <td>...</td>\n",
       "      <td>...</td>\n",
       "      <td>...</td>\n",
       "    </tr>\n",
       "    <tr>\n",
       "      <th>886</th>\n",
       "      <td>887</td>\n",
       "      <td>0</td>\n",
       "      <td>2</td>\n",
       "      <td>Montvila, Rev. Juozas</td>\n",
       "      <td>male</td>\n",
       "      <td>27.0</td>\n",
       "      <td>0</td>\n",
       "      <td>0</td>\n",
       "      <td>211536</td>\n",
       "      <td>13.0000</td>\n",
       "      <td>NaN</td>\n",
       "      <td>S</td>\n",
       "    </tr>\n",
       "    <tr>\n",
       "      <th>887</th>\n",
       "      <td>888</td>\n",
       "      <td>1</td>\n",
       "      <td>1</td>\n",
       "      <td>Graham, Miss. Margaret Edith</td>\n",
       "      <td>female</td>\n",
       "      <td>19.0</td>\n",
       "      <td>0</td>\n",
       "      <td>0</td>\n",
       "      <td>112053</td>\n",
       "      <td>30.0000</td>\n",
       "      <td>B42</td>\n",
       "      <td>S</td>\n",
       "    </tr>\n",
       "    <tr>\n",
       "      <th>888</th>\n",
       "      <td>889</td>\n",
       "      <td>0</td>\n",
       "      <td>3</td>\n",
       "      <td>Johnston, Miss. Catherine Helen \"Carrie\"</td>\n",
       "      <td>female</td>\n",
       "      <td>NaN</td>\n",
       "      <td>1</td>\n",
       "      <td>2</td>\n",
       "      <td>W./C. 6607</td>\n",
       "      <td>23.4500</td>\n",
       "      <td>NaN</td>\n",
       "      <td>S</td>\n",
       "    </tr>\n",
       "    <tr>\n",
       "      <th>889</th>\n",
       "      <td>890</td>\n",
       "      <td>1</td>\n",
       "      <td>1</td>\n",
       "      <td>Behr, Mr. Karl Howell</td>\n",
       "      <td>male</td>\n",
       "      <td>26.0</td>\n",
       "      <td>0</td>\n",
       "      <td>0</td>\n",
       "      <td>111369</td>\n",
       "      <td>30.0000</td>\n",
       "      <td>C148</td>\n",
       "      <td>C</td>\n",
       "    </tr>\n",
       "    <tr>\n",
       "      <th>890</th>\n",
       "      <td>891</td>\n",
       "      <td>0</td>\n",
       "      <td>3</td>\n",
       "      <td>Dooley, Mr. Patrick</td>\n",
       "      <td>male</td>\n",
       "      <td>32.0</td>\n",
       "      <td>0</td>\n",
       "      <td>0</td>\n",
       "      <td>370376</td>\n",
       "      <td>7.7500</td>\n",
       "      <td>NaN</td>\n",
       "      <td>Q</td>\n",
       "    </tr>\n",
       "  </tbody>\n",
       "</table>\n",
       "<p>891 rows × 12 columns</p>\n",
       "</div>"
      ],
      "text/plain": [
       "     PassengerId  Survived  Pclass  \\\n",
       "0              1         0       3   \n",
       "1              2         1       1   \n",
       "2              3         1       3   \n",
       "3              4         1       1   \n",
       "4              5         0       3   \n",
       "..           ...       ...     ...   \n",
       "886          887         0       2   \n",
       "887          888         1       1   \n",
       "888          889         0       3   \n",
       "889          890         1       1   \n",
       "890          891         0       3   \n",
       "\n",
       "                                                  Name     Sex   Age  SibSp  \\\n",
       "0                              Braund, Mr. Owen Harris    male  22.0      1   \n",
       "1    Cumings, Mrs. John Bradley (Florence Briggs Th...  female  38.0      1   \n",
       "2                               Heikkinen, Miss. Laina  female  26.0      0   \n",
       "3         Futrelle, Mrs. Jacques Heath (Lily May Peel)  female  35.0      1   \n",
       "4                             Allen, Mr. William Henry    male  35.0      0   \n",
       "..                                                 ...     ...   ...    ...   \n",
       "886                              Montvila, Rev. Juozas    male  27.0      0   \n",
       "887                       Graham, Miss. Margaret Edith  female  19.0      0   \n",
       "888           Johnston, Miss. Catherine Helen \"Carrie\"  female   NaN      1   \n",
       "889                              Behr, Mr. Karl Howell    male  26.0      0   \n",
       "890                                Dooley, Mr. Patrick    male  32.0      0   \n",
       "\n",
       "     Parch            Ticket     Fare Cabin Embarked  \n",
       "0        0         A/5 21171   7.2500   NaN        S  \n",
       "1        0          PC 17599  71.2833   C85        C  \n",
       "2        0  STON/O2. 3101282   7.9250   NaN        S  \n",
       "3        0            113803  53.1000  C123        S  \n",
       "4        0            373450   8.0500   NaN        S  \n",
       "..     ...               ...      ...   ...      ...  \n",
       "886      0            211536  13.0000   NaN        S  \n",
       "887      0            112053  30.0000   B42        S  \n",
       "888      2        W./C. 6607  23.4500   NaN        S  \n",
       "889      0            111369  30.0000  C148        C  \n",
       "890      0            370376   7.7500   NaN        Q  \n",
       "\n",
       "[891 rows x 12 columns]"
      ]
     },
     "execution_count": 9,
     "metadata": {},
     "output_type": "execute_result"
    }
   ],
   "source": [
    "titanic_data"
   ]
  },
  {
   "cell_type": "markdown",
   "id": "19e1a3a6-64bf-4b68-b539-ca23813ffca8",
   "metadata": {},
   "source": [
    "1. ## Kazada ölenlerin yaş ortalamasını bulunuz"
   ]
  },
  {
   "cell_type": "code",
   "execution_count": 27,
   "id": "25f3e31d-5c36-45e9-bee3-a563b54cf034",
   "metadata": {},
   "outputs": [
    {
     "name": "stdout",
     "output_type": "stream",
     "text": [
      "Kazada olenlerin yas ortalamasi: 30.63\n"
     ]
    }
   ],
   "source": [
    "avg_age_of_died = titanic_data[titanic_data['Survived'] == 0]['Age'].mean().round(2)\n",
    "\n",
    "# I used round() function to round the value.\n",
    "\n",
    "print(f\"Kazada olenlerin yas ortalamasi: {avg_age_of_died }\")\n",
    "\n"
   ]
  },
  {
   "cell_type": "markdown",
   "id": "1c08b97b-4981-4aa8-9957-ac1ebc09facd",
   "metadata": {},
   "source": [
    "2. ## Kazada ölenlerin bilet fiyatlarının ortalamasını ve medyanını bulunuz"
   ]
  },
  {
   "cell_type": "code",
   "execution_count": 63,
   "id": "669902c8-182c-44ca-8467-4e784821fce1",
   "metadata": {},
   "outputs": [
    {
     "name": "stdout",
     "output_type": "stream",
     "text": [
      "Kazada olenlerin bilet fiyatlarının ortalaması: 22.12\n",
      "Kazada olenlerin bilet fiyatlarının medyani: 10.5\n"
     ]
    }
   ],
   "source": [
    "avg_ticketPrice_of_died = titanic_data[titanic_data['Survived'] == 0]['Fare'].mean().round(2)\n",
    "median_ticketPrice_of_died = titanic_data[titanic_data['Survived'] == 0]['Fare'].median().round(2)\n",
    "\n",
    "\n",
    "print(f\"Kazada olenlerin bilet fiyatlarının ortalaması: {avg_ticketPrice_of_died}\")\n",
    "\n",
    "print(f\"Kazada olenlerin bilet fiyatlarının medyani: {median_ticketPrice_of_died}\")"
   ]
  },
  {
   "cell_type": "markdown",
   "id": "e86a5c86-cb3b-4a8b-91d2-0247dbdc936f",
   "metadata": {},
   "source": [
    "3. ## Kazada ölen erkeklerin yaş ortalamasını bulunuz"
   ]
  },
  {
   "cell_type": "code",
   "execution_count": 66,
   "id": "6edce427-b6cc-4e1e-a58c-ac791338a8c8",
   "metadata": {},
   "outputs": [
    {
     "name": "stdout",
     "output_type": "stream",
     "text": [
      "Kazada olen erkeklerin yas ortalaması: 31.62\n"
     ]
    }
   ],
   "source": [
    "avg_age_of_died_men= titanic_data[(titanic_data['Survived'] == 0) & (titanic_data['Sex']== 'male')]['Age'].mean().round(2)\n",
    "\n",
    "print(f\"Kazada olen erkeklerin yas ortalaması: {avg_age_of_died_men}\")"
   ]
  },
  {
   "cell_type": "markdown",
   "id": "075d180f-1622-4898-b129-d9dfd95ccd50",
   "metadata": {},
   "source": [
    "4. ## Kazada ölen Kadınların yaş ortalamasını bulunuz"
   ]
  },
  {
   "cell_type": "code",
   "execution_count": 67,
   "id": "899b8ee8-841f-4cf5-8d33-e2296c84fca5",
   "metadata": {},
   "outputs": [
    {
     "name": "stdout",
     "output_type": "stream",
     "text": [
      "Kazada olen erkeklerin yas ortalaması: 25.05\n"
     ]
    }
   ],
   "source": [
    "avg_age_of_died_women= titanic_data[(titanic_data['Survived'] == 0) & (titanic_data['Sex']== 'female')]['Age'].mean().round(2)\n",
    "\n",
    "print(f\"Kazada olen erkeklerin yas ortalaması: {avg_age_of_died_women}\")"
   ]
  },
  {
   "cell_type": "markdown",
   "id": "b121870b-ac11-4722-ae24-f910db1ed535",
   "metadata": {},
   "source": [
    "5. ## Kazadan kurtulanların yaş ortalamasını bulunuz"
   ]
  },
  {
   "cell_type": "code",
   "execution_count": 43,
   "id": "9109f5f9-33b9-4676-a049-9f42efbf3af9",
   "metadata": {},
   "outputs": [
    {
     "name": "stdout",
     "output_type": "stream",
     "text": [
      "Kazadan kurtulanlarin yas ortalaması: 28.34\n"
     ]
    }
   ],
   "source": [
    "avg_age_of_survived = titanic_data[(titanic_data['Survived'] == 1)]['Age'].mean().round(2)\n",
    "\n",
    "print(f\"Kazadan kurtulanlarin yas ortalaması: {avg_age_of_survived }\")"
   ]
  },
  {
   "cell_type": "markdown",
   "id": "d233d5f9-c9f6-4a77-924e-9bbb2f7a07b0",
   "metadata": {},
   "source": [
    "6. ## Kazadan kurtulanların bilet fiyatlarının ortalamasını bulunuz"
   ]
  },
  {
   "cell_type": "code",
   "execution_count": 53,
   "id": "dd504b80-d7a3-42ef-8c23-af35ed83f74e",
   "metadata": {},
   "outputs": [
    {
     "name": "stdout",
     "output_type": "stream",
     "text": [
      "Kazadan kurtulanlarin bilet fiyatlarinin ortalaması: 48.4\n"
     ]
    }
   ],
   "source": [
    "avg_price_of_survived = titanic_data[(titanic_data['Survived'] == 1)]['Fare'].mean().round(2)\n",
    "\n",
    "print(f\"Kazadan kurtulanlarin bilet fiyatlarinin ortalaması: {avg_price_of_survived }\")"
   ]
  },
  {
   "cell_type": "markdown",
   "id": "f3651997-847c-45dc-93cd-9bb995d0317f",
   "metadata": {},
   "source": [
    "7. ## Kazadan kurtulan toplam kişi sayısını bulunuz… (tüyo: len(df_titanic[(df_titanic.Survived==1)] kodu ile de bu sayıya ulaşabilirsiniz.)"
   ]
  },
  {
   "cell_type": "code",
   "execution_count": 57,
   "id": "885c8b26-ef23-4932-bf21-884b9eadc6e7",
   "metadata": {},
   "outputs": [
    {
     "name": "stdout",
     "output_type": "stream",
     "text": [
      "Kazadan kurtulanlarin toplam sayisi: 342\n"
     ]
    }
   ],
   "source": [
    "total_survived = (titanic_data['Survived'] == 1).sum()\n",
    "\n",
    "print(f\"Kazadan kurtulanlarin toplam sayisi: {total_survived}\")"
   ]
  },
  {
   "cell_type": "markdown",
   "id": "adf7415e-0f7b-41f9-ba71-96467de238be",
   "metadata": {},
   "source": [
    "8. ## 10 yaşından küçüklerin bilet fiyatlarının medyan değerini bulunuz"
   ]
  },
  {
   "cell_type": "code",
   "execution_count": 58,
   "id": "4ce429ef-bc66-47e4-b94f-347fdbcc59d5",
   "metadata": {},
   "outputs": [
    {
     "name": "stdout",
     "output_type": "stream",
     "text": [
      "Kazadan kurtulanlarin bilet fiyatlarinin ortalaması: 27.0\n"
     ]
    }
   ],
   "source": [
    "median_price_of_below10 = titanic_data[(titanic_data['Age'] < 10)]['Fare'].median().round(2)\n",
    "\n",
    "print(f\"10 yaşından küçüklerin bilet fiyatlarının medyani: {median_price_of_below10 }\")"
   ]
  },
  {
   "cell_type": "markdown",
   "id": "189315b8-93b4-404a-a7a9-6981f9363cd1",
   "metadata": {},
   "source": [
    "9. ## 1.sınıf, 2.sınıf ve 3.sınıf bilet fiyatlarının ortalama ve medyanlarını karşılaştırınız. (Pclass değişkeni sınıfları barındırmaktadır.)"
   ]
  },
  {
   "cell_type": "code",
   "execution_count": 62,
   "id": "0c2d4d1a-989b-4717-8b12-7b1bbc266677",
   "metadata": {},
   "outputs": [
    {
     "data": {
      "text/html": [
       "<div>\n",
       "<style scoped>\n",
       "    .dataframe tbody tr th:only-of-type {\n",
       "        vertical-align: middle;\n",
       "    }\n",
       "\n",
       "    .dataframe tbody tr th {\n",
       "        vertical-align: top;\n",
       "    }\n",
       "\n",
       "    .dataframe thead tr th {\n",
       "        text-align: left;\n",
       "    }\n",
       "\n",
       "    .dataframe thead tr:last-of-type th {\n",
       "        text-align: right;\n",
       "    }\n",
       "</style>\n",
       "<table border=\"1\" class=\"dataframe\">\n",
       "  <thead>\n",
       "    <tr>\n",
       "      <th></th>\n",
       "      <th colspan=\"2\" halign=\"left\">Fare</th>\n",
       "    </tr>\n",
       "    <tr>\n",
       "      <th></th>\n",
       "      <th>mean</th>\n",
       "      <th>median</th>\n",
       "    </tr>\n",
       "    <tr>\n",
       "      <th>Pclass</th>\n",
       "      <th></th>\n",
       "      <th></th>\n",
       "    </tr>\n",
       "  </thead>\n",
       "  <tbody>\n",
       "    <tr>\n",
       "      <th>1</th>\n",
       "      <td>84.154687</td>\n",
       "      <td>60.2875</td>\n",
       "    </tr>\n",
       "    <tr>\n",
       "      <th>2</th>\n",
       "      <td>20.662183</td>\n",
       "      <td>14.2500</td>\n",
       "    </tr>\n",
       "    <tr>\n",
       "      <th>3</th>\n",
       "      <td>13.675550</td>\n",
       "      <td>8.0500</td>\n",
       "    </tr>\n",
       "  </tbody>\n",
       "</table>\n",
       "</div>"
      ],
      "text/plain": [
       "             Fare         \n",
       "             mean   median\n",
       "Pclass                    \n",
       "1       84.154687  60.2875\n",
       "2       20.662183  14.2500\n",
       "3       13.675550   8.0500"
      ]
     },
     "execution_count": 62,
     "metadata": {},
     "output_type": "execute_result"
    }
   ],
   "source": [
    "x = titanic_data.groupby(['Pclass']).agg({'Fare': ['mean', 'median']})\n",
    "x"
   ]
  },
  {
   "cell_type": "markdown",
   "id": "af916106-cca8-46b1-944d-a115b47fb1b8",
   "metadata": {},
   "source": [
    "10. ## Kazada ölen kadınların oranı ile erkeklerin oranını karşılaştırınız. (Örnek: erkekler için; ölen erkeklerin, erkek sayısına bölümü bu oranı vermektedir."
   ]
  },
  {
   "cell_type": "code",
   "execution_count": 94,
   "id": "49efbc29-008f-467f-a832-419203f1d34a",
   "metadata": {},
   "outputs": [
    {
     "name": "stdout",
     "output_type": "stream",
     "text": [
      "Kazada olen kadin orani: 25.80%\n",
      "Kazada olen erkek orani: 81.11%\n"
     ]
    }
   ],
   "source": [
    "# total women count\n",
    "total_women_count = (titanic_data['Sex'] == 'female').sum()\n",
    "\n",
    "\n",
    "# total men count\n",
    "total_men_count = (titanic_data['Sex'] == 'male').sum()\n",
    "\n",
    "\n",
    "\n",
    "died_women_ratio = ((titanic_data['Survived'] == 0) & (titanic_data['Sex'] == 'female')).sum() / total_women_count\n",
    "print(f\"Kazada olen kadin orani: {died_women_ratio:.2%}\")\n",
    "\n",
    "died_men_ratio = ((titanic_data['Survived'] == 0) & (titanic_data['Sex'] == 'male')).sum() / total_men_count\n",
    "print(f\"Kazada olen erkek orani: {died_men_ratio:.2%}\")"
   ]
  },
  {
   "cell_type": "code",
   "execution_count": null,
   "id": "bf5c727d-fae0-4e7c-864f-efc766157546",
   "metadata": {},
   "outputs": [],
   "source": []
  },
  {
   "cell_type": "code",
   "execution_count": null,
   "id": "8bf779b2-9f59-48d0-8f8e-220438f52925",
   "metadata": {},
   "outputs": [],
   "source": []
  },
  {
   "cell_type": "code",
   "execution_count": null,
   "id": "ff74248e-81cf-42c6-93bd-285d5778068f",
   "metadata": {},
   "outputs": [],
   "source": []
  },
  {
   "cell_type": "code",
   "execution_count": null,
   "id": "ecf331d7-2bfe-4541-ab73-7e9f36f5201f",
   "metadata": {},
   "outputs": [],
   "source": []
  },
  {
   "cell_type": "code",
   "execution_count": null,
   "id": "40429f7e-bb4a-4e66-b509-ee70ddd57cdd",
   "metadata": {},
   "outputs": [],
   "source": []
  },
  {
   "cell_type": "code",
   "execution_count": null,
   "id": "1c14b2a7-9d4f-467e-99d0-e8cc2d3dea08",
   "metadata": {},
   "outputs": [],
   "source": []
  },
  {
   "cell_type": "code",
   "execution_count": null,
   "id": "d46318a0-c56b-4257-b1a2-f98cc590e2db",
   "metadata": {},
   "outputs": [],
   "source": []
  }
 ],
 "metadata": {
  "kernelspec": {
   "display_name": "Python 3 (ipykernel)",
   "language": "python",
   "name": "python3"
  },
  "language_info": {
   "codemirror_mode": {
    "name": "ipython",
    "version": 3
   },
   "file_extension": ".py",
   "mimetype": "text/x-python",
   "name": "python",
   "nbconvert_exporter": "python",
   "pygments_lexer": "ipython3",
   "version": "3.11.5"
  }
 },
 "nbformat": 4,
 "nbformat_minor": 5
}
